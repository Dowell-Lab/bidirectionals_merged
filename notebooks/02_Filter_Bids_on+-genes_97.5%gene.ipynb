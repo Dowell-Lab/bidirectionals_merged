{
 "cells": [
  {
   "cell_type": "markdown",
   "id": "13455689-0de9-445c-b49b-a9a75539ce83",
   "metadata": {},
   "source": [
    "## Filter bidirectionals to remove any likely FPs or genes rather than enhancers\n",
    "1. Merge bidirectionals if overlapping by at least 1 bp\n",
    "2. Remove bidirectionals overlapping gnes on both + & - strands, or those covering >90% of a gene (likely just gene)"
   ]
  },
  {
   "cell_type": "code",
   "execution_count": 42,
   "id": "f081cab1-8176-43bf-8dc2-606f31a08740",
   "metadata": {
    "tags": []
   },
   "outputs": [],
   "source": [
    "library(data.table)\n",
    "library(ggplot2)\n",
    "library(cowplot)"
   ]
  },
  {
   "cell_type": "markdown",
   "id": "cebb4fc7-b8b4-461d-85d0-88cba44beb02",
   "metadata": {},
   "source": [
    "## 1. Overlap latest bidirectionals with bash script"
   ]
  },
  {
   "cell_type": "raw",
   "id": "4f5aa919-615c-4f0e-a8ab-bbca92d51f06",
   "metadata": {
    "tags": []
   },
   "source": [
    "bedtools v2.30.0\n",
    "```\n",
    "#!/bin/bash\n",
    "\n",
    "#OPTIONAL:\n",
    "# Merge any bidirectionals overlapping by at least 1 bp\n",
    "bedtools merge -d -1 -c 4,5,6 -o distinct -i hg38_master_qc1_2_gc_len_filter_sorted.bed > hg38_master_qc1_2_gc_len_filter_merge.bed\n",
    "\n",
    "# get appropraite files for ALL genes and bidirectionals\n",
    "# ALL isoforms, full genes, only primary chromosomes\n",
    "GENE_BED=\"../data/processed_annotations/hg38_refseq_prim_chrom_transcripts.bed\" \n",
    "# ALL filtered bidirectionals\n",
    "FULL_BID_BED=\"../data/raw_annotations/hg38_master_qc1_2_gc_len_filter_sorted.bed\"\n",
    "\n",
    "echo \"Getting intersections of only qc1/2 filtered bidirectionals with all, full genes\"\n",
    "bedtools intersect -a $GENE_BED -b $FULL_BID_BED -wo > overlaps_all_genes_qc1_2_gc_len_filter.bed\n",
    "```"
   ]
  },
  {
   "cell_type": "markdown",
   "id": "f7ad1708-daa6-4924-adac-11c0b9862484",
   "metadata": {},
   "source": [
    "## 2. Remove bidirectionals overlapping genes on both + & - strands & covering >90% gene"
   ]
  },
  {
   "cell_type": "markdown",
   "id": "328ab8c3-0356-4726-a89d-18b17b8e1b85",
   "metadata": {},
   "source": [
    "### 2A. Prep info"
   ]
  },
  {
   "cell_type": "code",
   "execution_count": 49,
   "id": "cc424b9d-fb3a-4143-9c4e-b928f418b442",
   "metadata": {
    "tags": []
   },
   "outputs": [
    {
     "data": {
      "text/html": [
       "<table class=\"dataframe\">\n",
       "<caption>A data.table: 2 × 16</caption>\n",
       "<thead>\n",
       "\t<tr><th scope=col>chr</th><th scope=col>Gene_Start</th><th scope=col>Gene_Stop</th><th scope=col>TranscriptID</th><th scope=col>Score</th><th scope=col>strand</th><th scope=col>chr2</th><th scope=col>Bid_Start</th><th scope=col>Bid_Stop</th><th scope=col>Samples</th><th scope=col>Num_Samples</th><th scope=col>source_summary</th><th scope=col>source</th><th scope=col>score</th><th scope=col>Bid_Length</th><th scope=col>overlap</th></tr>\n",
       "\t<tr><th scope=col>&lt;chr&gt;</th><th scope=col>&lt;int&gt;</th><th scope=col>&lt;int&gt;</th><th scope=col>&lt;chr&gt;</th><th scope=col>&lt;chr&gt;</th><th scope=col>&lt;chr&gt;</th><th scope=col>&lt;chr&gt;</th><th scope=col>&lt;int&gt;</th><th scope=col>&lt;int&gt;</th><th scope=col>&lt;chr&gt;</th><th scope=col>&lt;int&gt;</th><th scope=col>&lt;chr&gt;</th><th scope=col>&lt;chr&gt;</th><th scope=col>&lt;int&gt;</th><th scope=col>&lt;int&gt;</th><th scope=col>&lt;int&gt;</th></tr>\n",
       "</thead>\n",
       "<tbody>\n",
       "\t<tr><td>chr1</td><td>11873</td><td>14409</td><td>DDX11L1:NR_046018.2</td><td>.</td><td>+</td><td>chr1</td><td>12182</td><td>12456</td><td>Li2020human                                                                                                                                                                                                                                                                                  </td><td> 1</td><td>Tfit Overlap</td><td>Tfit</td><td>0</td><td>275</td><td>274</td></tr>\n",
       "\t<tr><td>chr1</td><td>11873</td><td>14409</td><td>DDX11L1:NR_046018.2</td><td>.</td><td>+</td><td>chr1</td><td>13264</td><td>13506</td><td>Beckedorff2020human,Birkenheuer2018herpes,Birkenheuer2020rna,Gally2020gain_LC-2-ad,Ikegami2020phosphorylated,Jaeger2020selective,Li2020human,Sasse2019nascent,Schick2021acute,Smith2021peppro,Takahashi2020role,Vihervaara2017transcriptional,Weissmiller2019inhibition,Zhao2016high_Kasumi-1</td><td>14</td><td>Tfit Only   </td><td>Tfit</td><td>0</td><td>243</td><td>242</td></tr>\n",
       "</tbody>\n",
       "</table>\n"
      ],
      "text/latex": [
       "A data.table: 2 × 16\n",
       "\\begin{tabular}{llllllllllllllll}\n",
       " chr & Gene\\_Start & Gene\\_Stop & TranscriptID & Score & strand & chr2 & Bid\\_Start & Bid\\_Stop & Samples & Num\\_Samples & source\\_summary & source & score & Bid\\_Length & overlap\\\\\n",
       " <chr> & <int> & <int> & <chr> & <chr> & <chr> & <chr> & <int> & <int> & <chr> & <int> & <chr> & <chr> & <int> & <int> & <int>\\\\\n",
       "\\hline\n",
       "\t chr1 & 11873 & 14409 & DDX11L1:NR\\_046018.2 & . & + & chr1 & 12182 & 12456 & Li2020human                                                                                                                                                                                                                                                                                   &  1 & Tfit Overlap & Tfit & 0 & 275 & 274\\\\\n",
       "\t chr1 & 11873 & 14409 & DDX11L1:NR\\_046018.2 & . & + & chr1 & 13264 & 13506 & Beckedorff2020human,Birkenheuer2018herpes,Birkenheuer2020rna,Gally2020gain\\_LC-2-ad,Ikegami2020phosphorylated,Jaeger2020selective,Li2020human,Sasse2019nascent,Schick2021acute,Smith2021peppro,Takahashi2020role,Vihervaara2017transcriptional,Weissmiller2019inhibition,Zhao2016high\\_Kasumi-1 & 14 & Tfit Only    & Tfit & 0 & 243 & 242\\\\\n",
       "\\end{tabular}\n"
      ],
      "text/markdown": [
       "\n",
       "A data.table: 2 × 16\n",
       "\n",
       "| chr &lt;chr&gt; | Gene_Start &lt;int&gt; | Gene_Stop &lt;int&gt; | TranscriptID &lt;chr&gt; | Score &lt;chr&gt; | strand &lt;chr&gt; | chr2 &lt;chr&gt; | Bid_Start &lt;int&gt; | Bid_Stop &lt;int&gt; | Samples &lt;chr&gt; | Num_Samples &lt;int&gt; | source_summary &lt;chr&gt; | source &lt;chr&gt; | score &lt;int&gt; | Bid_Length &lt;int&gt; | overlap &lt;int&gt; |\n",
       "|---|---|---|---|---|---|---|---|---|---|---|---|---|---|---|---|\n",
       "| chr1 | 11873 | 14409 | DDX11L1:NR_046018.2 | . | + | chr1 | 12182 | 12456 | Li2020human                                                                                                                                                                                                                                                                                   |  1 | Tfit Overlap | Tfit | 0 | 275 | 274 |\n",
       "| chr1 | 11873 | 14409 | DDX11L1:NR_046018.2 | . | + | chr1 | 13264 | 13506 | Beckedorff2020human,Birkenheuer2018herpes,Birkenheuer2020rna,Gally2020gain_LC-2-ad,Ikegami2020phosphorylated,Jaeger2020selective,Li2020human,Sasse2019nascent,Schick2021acute,Smith2021peppro,Takahashi2020role,Vihervaara2017transcriptional,Weissmiller2019inhibition,Zhao2016high_Kasumi-1 | 14 | Tfit Only    | Tfit | 0 | 243 | 242 |\n",
       "\n"
      ],
      "text/plain": [
       "  chr  Gene_Start Gene_Stop TranscriptID        Score strand chr2 Bid_Start\n",
       "1 chr1 11873      14409     DDX11L1:NR_046018.2 .     +      chr1 12182    \n",
       "2 chr1 11873      14409     DDX11L1:NR_046018.2 .     +      chr1 13264    \n",
       "  Bid_Stop\n",
       "1 12456   \n",
       "2 13506   \n",
       "  Samples                                                                                                                                                                                                                                                                                      \n",
       "1 Li2020human                                                                                                                                                                                                                                                                                  \n",
       "2 Beckedorff2020human,Birkenheuer2018herpes,Birkenheuer2020rna,Gally2020gain_LC-2-ad,Ikegami2020phosphorylated,Jaeger2020selective,Li2020human,Sasse2019nascent,Schick2021acute,Smith2021peppro,Takahashi2020role,Vihervaara2017transcriptional,Weissmiller2019inhibition,Zhao2016high_Kasumi-1\n",
       "  Num_Samples source_summary source score Bid_Length overlap\n",
       "1  1          Tfit Overlap   Tfit   0     275        274    \n",
       "2 14          Tfit Only      Tfit   0     243        242    "
      ]
     },
     "metadata": {},
     "output_type": "display_data"
    },
    {
     "data": {
      "text/html": [
       "<style>\n",
       ".list-inline {list-style: none; margin:0; padding: 0}\n",
       ".list-inline>li {display: inline-block}\n",
       ".list-inline>li:not(:last-child)::after {content: \"\\00b7\"; padding: 0 .5ex}\n",
       "</style>\n",
       "<ol class=list-inline><li>2547970</li><li>16</li></ol>\n"
      ],
      "text/latex": [
       "\\begin{enumerate*}\n",
       "\\item 2547970\n",
       "\\item 16\n",
       "\\end{enumerate*}\n"
      ],
      "text/markdown": [
       "1. 2547970\n",
       "2. 16\n",
       "\n",
       "\n"
      ],
      "text/plain": [
       "[1] 2547970      16"
      ]
     },
     "metadata": {},
     "output_type": "display_data"
    },
    {
     "data": {
      "text/html": [
       "<table class=\"dataframe\">\n",
       "<caption>A data.table: 2 × 9</caption>\n",
       "<thead>\n",
       "\t<tr><th scope=col>chr2</th><th scope=col>Bid_Start</th><th scope=col>Bid_Stop</th><th scope=col>Samples</th><th scope=col>Num_Samples</th><th scope=col>source_summary</th><th scope=col>source</th><th scope=col>score</th><th scope=col>Bid_Length</th></tr>\n",
       "\t<tr><th scope=col>&lt;chr&gt;</th><th scope=col>&lt;int&gt;</th><th scope=col>&lt;int&gt;</th><th scope=col>&lt;chr&gt;</th><th scope=col>&lt;int&gt;</th><th scope=col>&lt;chr&gt;</th><th scope=col>&lt;chr&gt;</th><th scope=col>&lt;int&gt;</th><th scope=col>&lt;int&gt;</th></tr>\n",
       "</thead>\n",
       "<tbody>\n",
       "\t<tr><td>chr1</td><td>3917</td><td>4919</td><td>Blumberg2021characterizing,Godfrey2017mll,Ikegami2020phosphorylated,Judd2020unpublished,Li2020human,Liu2021transcription,Nilson2017oxidative,Parida2019nucleotide,Santoriello2020rna,Sathyan2019improved,Sendinc2019pcif1,Smith2021peppro,Sumida2018ultra,Wan2020h2bg53d</td><td>14</td><td>dREG Only</td><td>dREG</td><td>0</td><td>1003</td></tr>\n",
       "\t<tr><td>chr1</td><td>5632</td><td>6042</td><td>Blumberg2021characterizing,Godfrey2017mll,Ikegami2020phosphorylated,Judd2020unpublished,Li2020human,Liu2021transcription,Nilson2017oxidative,Parida2019nucleotide,Santoriello2020rna,Sathyan2019improved,Sendinc2019pcif1,Smith2021peppro,Sumida2018ultra,Wan2020h2bg53d</td><td>14</td><td>dREG Only</td><td>dREG</td><td>0</td><td> 411</td></tr>\n",
       "</tbody>\n",
       "</table>\n"
      ],
      "text/latex": [
       "A data.table: 2 × 9\n",
       "\\begin{tabular}{lllllllll}\n",
       " chr2 & Bid\\_Start & Bid\\_Stop & Samples & Num\\_Samples & source\\_summary & source & score & Bid\\_Length\\\\\n",
       " <chr> & <int> & <int> & <chr> & <int> & <chr> & <chr> & <int> & <int>\\\\\n",
       "\\hline\n",
       "\t chr1 & 3917 & 4919 & Blumberg2021characterizing,Godfrey2017mll,Ikegami2020phosphorylated,Judd2020unpublished,Li2020human,Liu2021transcription,Nilson2017oxidative,Parida2019nucleotide,Santoriello2020rna,Sathyan2019improved,Sendinc2019pcif1,Smith2021peppro,Sumida2018ultra,Wan2020h2bg53d & 14 & dREG Only & dREG & 0 & 1003\\\\\n",
       "\t chr1 & 5632 & 6042 & Blumberg2021characterizing,Godfrey2017mll,Ikegami2020phosphorylated,Judd2020unpublished,Li2020human,Liu2021transcription,Nilson2017oxidative,Parida2019nucleotide,Santoriello2020rna,Sathyan2019improved,Sendinc2019pcif1,Smith2021peppro,Sumida2018ultra,Wan2020h2bg53d & 14 & dREG Only & dREG & 0 &  411\\\\\n",
       "\\end{tabular}\n"
      ],
      "text/markdown": [
       "\n",
       "A data.table: 2 × 9\n",
       "\n",
       "| chr2 &lt;chr&gt; | Bid_Start &lt;int&gt; | Bid_Stop &lt;int&gt; | Samples &lt;chr&gt; | Num_Samples &lt;int&gt; | source_summary &lt;chr&gt; | source &lt;chr&gt; | score &lt;int&gt; | Bid_Length &lt;int&gt; |\n",
       "|---|---|---|---|---|---|---|---|---|\n",
       "| chr1 | 3917 | 4919 | Blumberg2021characterizing,Godfrey2017mll,Ikegami2020phosphorylated,Judd2020unpublished,Li2020human,Liu2021transcription,Nilson2017oxidative,Parida2019nucleotide,Santoriello2020rna,Sathyan2019improved,Sendinc2019pcif1,Smith2021peppro,Sumida2018ultra,Wan2020h2bg53d | 14 | dREG Only | dREG | 0 | 1003 |\n",
       "| chr1 | 5632 | 6042 | Blumberg2021characterizing,Godfrey2017mll,Ikegami2020phosphorylated,Judd2020unpublished,Li2020human,Liu2021transcription,Nilson2017oxidative,Parida2019nucleotide,Santoriello2020rna,Sathyan2019improved,Sendinc2019pcif1,Smith2021peppro,Sumida2018ultra,Wan2020h2bg53d | 14 | dREG Only | dREG | 0 |  411 |\n",
       "\n"
      ],
      "text/plain": [
       "  chr2 Bid_Start Bid_Stop\n",
       "1 chr1 3917      4919    \n",
       "2 chr1 5632      6042    \n",
       "  Samples                                                                                                                                                                                                                                                                 \n",
       "1 Blumberg2021characterizing,Godfrey2017mll,Ikegami2020phosphorylated,Judd2020unpublished,Li2020human,Liu2021transcription,Nilson2017oxidative,Parida2019nucleotide,Santoriello2020rna,Sathyan2019improved,Sendinc2019pcif1,Smith2021peppro,Sumida2018ultra,Wan2020h2bg53d\n",
       "2 Blumberg2021characterizing,Godfrey2017mll,Ikegami2020phosphorylated,Judd2020unpublished,Li2020human,Liu2021transcription,Nilson2017oxidative,Parida2019nucleotide,Santoriello2020rna,Sathyan2019improved,Sendinc2019pcif1,Smith2021peppro,Sumida2018ultra,Wan2020h2bg53d\n",
       "  Num_Samples source_summary source score Bid_Length\n",
       "1 14          dREG Only      dREG   0     1003      \n",
       "2 14          dREG Only      dREG   0      411      "
      ]
     },
     "metadata": {},
     "output_type": "display_data"
    },
    {
     "data": {
      "text/html": [
       "<style>\n",
       ".list-inline {list-style: none; margin:0; padding: 0}\n",
       ".list-inline>li {display: inline-block}\n",
       ".list-inline>li:not(:last-child)::after {content: \"\\00b7\"; padding: 0 .5ex}\n",
       "</style>\n",
       "<ol class=list-inline><li>868657</li><li>9</li></ol>\n"
      ],
      "text/latex": [
       "\\begin{enumerate*}\n",
       "\\item 868657\n",
       "\\item 9\n",
       "\\end{enumerate*}\n"
      ],
      "text/markdown": [
       "1. 868657\n",
       "2. 9\n",
       "\n",
       "\n"
      ],
      "text/plain": [
       "[1] 868657      9"
      ]
     },
     "metadata": {},
     "output_type": "display_data"
    }
   ],
   "source": [
    "# read in overlaps\n",
    "overlaps_filt <- fread(\"overlaps_all_genes_qc1_2_gc_len_filter.bed\")\n",
    "# get unoverlapping bidirectionals\n",
    "all_filt_bids <- fread(\"../data/raw_annotations/hg38_master_qc1_2_gc_len_filter_sorted.bed\")\n",
    "# add column names\n",
    "colnames(overlaps_filt) <- c(\"chr\", \"Gene_Start\", \"Gene_Stop\", \"TranscriptID\", \"Score\", \"strand\", \n",
    "                           \"chr2\", \"Bid_Start\", \"Bid_Stop\", \"Samples\",\"Num_Samples\",\"source_summary\", \n",
    "                             \"source\", \"score\", \"Bid_Length\", \"overlap\")\n",
    "colnames(all_filt_bids) <- c(\"chr2\", \"Bid_Start\", \"Bid_Stop\", \"Samples\",\"Num_Samples\",\"source_summary\", \n",
    "                             \"source\", \"score\", \"Bid_Length\")\n",
    "overlaps_filt[1:2,]\n",
    "dim(overlaps_filt)\n",
    "all_filt_bids[1:2,]\n",
    "dim(all_filt_bids)"
   ]
  },
  {
   "cell_type": "code",
   "execution_count": 50,
   "id": "a74914cb-1bd9-49f5-bb40-ff3785002671",
   "metadata": {
    "tags": []
   },
   "outputs": [],
   "source": [
    "# add Bid id\n",
    "overlaps_filt$BidID <- paste0(overlaps_filt$chr2, \n",
    "                              \"-\", overlaps_filt$Bid_Start, \n",
    "                              \"-\", overlaps_filt$Bid_Stop, \n",
    "                              \"-\", overlaps_filt$source)\n",
    "all_filt_bids$BidID <- paste0(all_filt_bids$chr2, \n",
    "                              \"-\", all_filt_bids$Bid_Start, \n",
    "                              \"-\", all_filt_bids$Bid_Stop, \n",
    "                              \"-\", all_filt_bids$source)\n",
    "# get Fraction of gene overlapped\n",
    "overlaps_filt$Gene_Length <- overlaps_filt$Gene_Stop - overlaps_filt$Gene_Start + 1\n",
    "overlaps_filt$Frac_Gene_Overlap <- overlaps_filt$overlap/overlaps_filt$Gene_Length"
   ]
  },
  {
   "cell_type": "markdown",
   "id": "be13eacd-bf6d-4614-a84b-7e5cec35a4b0",
   "metadata": {},
   "source": [
    "### 2B. Remove bidirectionals overlapping genes on both + & - strands"
   ]
  },
  {
   "cell_type": "code",
   "execution_count": 51,
   "id": "af9171e3-786b-4f9d-9343-1765d1926629",
   "metadata": {
    "tags": []
   },
   "outputs": [
    {
     "data": {
      "text/html": [
       "<style>\n",
       ".list-inline {list-style: none; margin:0; padding: 0}\n",
       ".list-inline>li {display: inline-block}\n",
       ".list-inline>li:not(:last-child)::after {content: \"\\00b7\"; padding: 0 .5ex}\n",
       "</style>\n",
       "<ol class=list-inline><li>1276830</li><li>19</li></ol>\n"
      ],
      "text/latex": [
       "\\begin{enumerate*}\n",
       "\\item 1276830\n",
       "\\item 19\n",
       "\\end{enumerate*}\n"
      ],
      "text/markdown": [
       "1. 1276830\n",
       "2. 19\n",
       "\n",
       "\n"
      ],
      "text/plain": [
       "[1] 1276830      19"
      ]
     },
     "metadata": {},
     "output_type": "display_data"
    },
    {
     "data": {
      "text/html": [
       "<style>\n",
       ".list-inline {list-style: none; margin:0; padding: 0}\n",
       ".list-inline>li {display: inline-block}\n",
       ".list-inline>li:not(:last-child)::after {content: \"\\00b7\"; padding: 0 .5ex}\n",
       "</style>\n",
       "<ol class=list-inline><li>1271140</li><li>19</li></ol>\n"
      ],
      "text/latex": [
       "\\begin{enumerate*}\n",
       "\\item 1271140\n",
       "\\item 19\n",
       "\\end{enumerate*}\n"
      ],
      "text/markdown": [
       "1. 1271140\n",
       "2. 19\n",
       "\n",
       "\n"
      ],
      "text/plain": [
       "[1] 1271140      19"
      ]
     },
     "metadata": {},
     "output_type": "display_data"
    },
    {
     "data": {
      "text/html": [
       "19711"
      ],
      "text/latex": [
       "19711"
      ],
      "text/markdown": [
       "19711"
      ],
      "text/plain": [
       "[1] 19711"
      ]
     },
     "metadata": {},
     "output_type": "display_data"
    },
    {
     "data": {
      "text/html": [
       "<style>\n",
       ".list-inline {list-style: none; margin:0; padding: 0}\n",
       ".list-inline>li {display: inline-block}\n",
       ".list-inline>li:not(:last-child)::after {content: \"\\00b7\"; padding: 0 .5ex}\n",
       "</style>\n",
       "<ol class=list-inline><li>56209</li><li>19</li></ol>\n"
      ],
      "text/latex": [
       "\\begin{enumerate*}\n",
       "\\item 56209\n",
       "\\item 19\n",
       "\\end{enumerate*}\n"
      ],
      "text/markdown": [
       "1. 56209\n",
       "2. 19\n",
       "\n",
       "\n"
      ],
      "text/plain": [
       "[1] 56209    19"
      ]
     },
     "metadata": {},
     "output_type": "display_data"
    },
    {
     "data": {
      "text/html": [
       "<style>\n",
       ".list-inline {list-style: none; margin:0; padding: 0}\n",
       ".list-inline>li {display: inline-block}\n",
       ".list-inline>li:not(:last-child)::after {content: \"\\00b7\"; padding: 0 .5ex}\n",
       "</style>\n",
       "<ol class=list-inline><li>59309</li><li>19</li></ol>\n"
      ],
      "text/latex": [
       "\\begin{enumerate*}\n",
       "\\item 59309\n",
       "\\item 19\n",
       "\\end{enumerate*}\n"
      ],
      "text/markdown": [
       "1. 59309\n",
       "2. 19\n",
       "\n",
       "\n"
      ],
      "text/plain": [
       "[1] 59309    19"
      ]
     },
     "metadata": {},
     "output_type": "display_data"
    }
   ],
   "source": [
    "# get the positive & negative overlaps separated\n",
    "overlaps_filt_pos <- overlaps_filt[overlaps_filt$strand == \"+\",]\n",
    "dim(overlaps_filt_pos)\n",
    "overlaps_filt_neg <- overlaps_filt[overlaps_filt$strand == \"-\",]\n",
    "dim(overlaps_filt_neg)\n",
    "\n",
    "# get those found in both overlappings\n",
    "pos_neg_filt <- intersect(unique(overlaps_filt_neg$BidID), unique(overlaps_filt_pos$BidID))\n",
    "length(pos_neg_filt)\n",
    "overlaps_filt_pos <- overlaps_filt_pos[overlaps_filt_pos$BidID %in% pos_neg_filt,]\n",
    "dim(overlaps_filt_pos)\n",
    "overlaps_filt_neg <- overlaps_filt_neg[overlaps_filt_neg$BidID %in% pos_neg_filt,]\n",
    "dim(overlaps_filt_neg)"
   ]
  },
  {
   "cell_type": "markdown",
   "id": "318166eb-4236-4ee7-a75d-bc08f37969e3",
   "metadata": {},
   "source": [
    "### 2C. Remove bidirectionals that are likely just genes (cover large % genes)"
   ]
  },
  {
   "cell_type": "code",
   "execution_count": 52,
   "id": "bf24e152-8227-47ba-8a80-29b69284a75d",
   "metadata": {
    "tags": []
   },
   "outputs": [
    {
     "data": {
      "image/png": "[encoded data removed]",
      "text/plain": [
       "plot without title"
      ]
     },
     "metadata": {
      "image/png": {
       "height": 240,
       "width": 1200
      }
     },
     "output_type": "display_data"
    }
   ],
   "source": [
    "# graph overlaps\n",
    "p1 <- ggplot(overlaps_filt, aes(x=Frac_Gene_Overlap)) + geom_histogram(binwidth=0.01) + \n",
    "ggtitle(paste0(\"Fraction of Gene Overlapped for each overlap of qc,len,GC filtered bids\\n (Median=\", \n",
    "               round(median(overlaps_filt$Frac_Gene_Overlap),5), \")\")) + theme_bw(base_size=15) +\n",
    "geom_vline(xintercept=0.975, color=\"red\")\n",
    "p2 <- ggplot(overlaps_filt[overlaps_filt$Frac_Gene_Overlap>0.1,], aes(x=Frac_Gene_Overlap)) + geom_histogram(binwidth=0.01) + \n",
    "ggtitle(paste0(\"Fraction of Gene Overlapped for each overlap of qc,len,GC filtered bids (>0.1)\\n (Median=\", \n",
    "               round(median(overlaps_filt[overlaps_filt$Frac_Gene_Overlap>0.1,]$Frac_Gene_Overlap),5), \")\")) + \n",
    "theme_bw(base_size=15) + geom_vline(xintercept=0.975, color=\"red\")\n",
    "options(repr.plot.height = 4, repr.plot.width = 20)\n",
    "plot_grid(p1, p2, nrow=1)"
   ]
  },
  {
   "cell_type": "code",
   "execution_count": 53,
   "id": "84715425-170e-4f73-b671-e5badd0471a1",
   "metadata": {
    "tags": []
   },
   "outputs": [
    {
     "data": {
      "text/html": [
       "550"
      ],
      "text/latex": [
       "550"
      ],
      "text/markdown": [
       "550"
      ],
      "text/plain": [
       "[1] 550"
      ]
     },
     "metadata": {},
     "output_type": "display_data"
    }
   ],
   "source": [
    "over_90_filt <- unique(overlaps_filt[overlaps_filt$Frac_Gene_Overlap > .975,]$BidID)\n",
    "length(over_90_filt)"
   ]
  },
  {
   "cell_type": "markdown",
   "id": "a9e13371-f45d-4e0c-848b-3a3813591625",
   "metadata": {},
   "source": [
    "## 3. Filter the bidirectionals"
   ]
  },
  {
   "cell_type": "code",
   "execution_count": 54,
   "id": "3d06dcc4-56a6-46fb-989c-3ddc7fbae582",
   "metadata": {
    "tags": []
   },
   "outputs": [
    {
     "data": {
      "text/html": [
       "<style>\n",
       ".list-inline {list-style: none; margin:0; padding: 0}\n",
       ".list-inline>li {display: inline-block}\n",
       ".list-inline>li:not(:last-child)::after {content: \"\\00b7\"; padding: 0 .5ex}\n",
       "</style>\n",
       "<ol class=list-inline><li>868657</li><li>10</li></ol>\n"
      ],
      "text/latex": [
       "\\begin{enumerate*}\n",
       "\\item 868657\n",
       "\\item 10\n",
       "\\end{enumerate*}\n"
      ],
      "text/markdown": [
       "1. 868657\n",
       "2. 10\n",
       "\n",
       "\n"
      ],
      "text/plain": [
       "[1] 868657     10"
      ]
     },
     "metadata": {},
     "output_type": "display_data"
    },
    {
     "data": {
      "text/html": [
       "<style>\n",
       ".list-inline {list-style: none; margin:0; padding: 0}\n",
       ".list-inline>li {display: inline-block}\n",
       ".list-inline>li:not(:last-child)::after {content: \"\\00b7\"; padding: 0 .5ex}\n",
       "</style>\n",
       "<ol class=list-inline><li>848490</li><li>10</li></ol>\n"
      ],
      "text/latex": [
       "\\begin{enumerate*}\n",
       "\\item 848490\n",
       "\\item 10\n",
       "\\end{enumerate*}\n"
      ],
      "text/markdown": [
       "1. 848490\n",
       "2. 10\n",
       "\n",
       "\n"
      ],
      "text/plain": [
       "[1] 848490     10"
      ]
     },
     "metadata": {},
     "output_type": "display_data"
    }
   ],
   "source": [
    "# get the new filtered bidirectionals\n",
    "filt_filt_bids <- all_filt_bids[!all_filt_bids$BidID %in% pos_neg_filt,]\n",
    "filt_filt_bids <- filt_filt_bids[!filt_filt_bids$BidID %in% over_90_filt,]\n",
    "dim(all_filt_bids)\n",
    "dim(filt_filt_bids)"
   ]
  },
  {
   "cell_type": "code",
   "execution_count": 55,
   "id": "f15122f4-46d0-4c75-8fb3-27531e76fffd",
   "metadata": {
    "tags": []
   },
   "outputs": [
    {
     "data": {
      "text/html": [
       "<table class=\"dataframe\">\n",
       "<caption>A data.table: 2 × 10</caption>\n",
       "<thead>\n",
       "\t<tr><th scope=col>chr2</th><th scope=col>Bid_Start</th><th scope=col>Bid_Stop</th><th scope=col>Samples</th><th scope=col>Num_Samples</th><th scope=col>source_summary</th><th scope=col>source</th><th scope=col>score</th><th scope=col>Bid_Length</th><th scope=col>BidID</th></tr>\n",
       "\t<tr><th scope=col>&lt;chr&gt;</th><th scope=col>&lt;int&gt;</th><th scope=col>&lt;int&gt;</th><th scope=col>&lt;chr&gt;</th><th scope=col>&lt;int&gt;</th><th scope=col>&lt;chr&gt;</th><th scope=col>&lt;chr&gt;</th><th scope=col>&lt;int&gt;</th><th scope=col>&lt;int&gt;</th><th scope=col>&lt;chr&gt;</th></tr>\n",
       "</thead>\n",
       "<tbody>\n",
       "\t<tr><td>chr1</td><td>3917</td><td>4919</td><td>Blumberg2021characterizing,Godfrey2017mll,Ikegami2020phosphorylated,Judd2020unpublished,Li2020human,Liu2021transcription,Nilson2017oxidative,Parida2019nucleotide,Santoriello2020rna,Sathyan2019improved,Sendinc2019pcif1,Smith2021peppro,Sumida2018ultra,Wan2020h2bg53d</td><td>14</td><td>dREG Only</td><td>dREG</td><td>0</td><td>1003</td><td>chr1-3917-4919-dREG</td></tr>\n",
       "\t<tr><td>chr1</td><td>5632</td><td>6042</td><td>Blumberg2021characterizing,Godfrey2017mll,Ikegami2020phosphorylated,Judd2020unpublished,Li2020human,Liu2021transcription,Nilson2017oxidative,Parida2019nucleotide,Santoriello2020rna,Sathyan2019improved,Sendinc2019pcif1,Smith2021peppro,Sumida2018ultra,Wan2020h2bg53d</td><td>14</td><td>dREG Only</td><td>dREG</td><td>0</td><td> 411</td><td>chr1-5632-6042-dREG</td></tr>\n",
       "</tbody>\n",
       "</table>\n"
      ],
      "text/latex": [
       "A data.table: 2 × 10\n",
       "\\begin{tabular}{llllllllll}\n",
       " chr2 & Bid\\_Start & Bid\\_Stop & Samples & Num\\_Samples & source\\_summary & source & score & Bid\\_Length & BidID\\\\\n",
       " <chr> & <int> & <int> & <chr> & <int> & <chr> & <chr> & <int> & <int> & <chr>\\\\\n",
       "\\hline\n",
       "\t chr1 & 3917 & 4919 & Blumberg2021characterizing,Godfrey2017mll,Ikegami2020phosphorylated,Judd2020unpublished,Li2020human,Liu2021transcription,Nilson2017oxidative,Parida2019nucleotide,Santoriello2020rna,Sathyan2019improved,Sendinc2019pcif1,Smith2021peppro,Sumida2018ultra,Wan2020h2bg53d & 14 & dREG Only & dREG & 0 & 1003 & chr1-3917-4919-dREG\\\\\n",
       "\t chr1 & 5632 & 6042 & Blumberg2021characterizing,Godfrey2017mll,Ikegami2020phosphorylated,Judd2020unpublished,Li2020human,Liu2021transcription,Nilson2017oxidative,Parida2019nucleotide,Santoriello2020rna,Sathyan2019improved,Sendinc2019pcif1,Smith2021peppro,Sumida2018ultra,Wan2020h2bg53d & 14 & dREG Only & dREG & 0 &  411 & chr1-5632-6042-dREG\\\\\n",
       "\\end{tabular}\n"
      ],
      "text/markdown": [
       "\n",
       "A data.table: 2 × 10\n",
       "\n",
       "| chr2 &lt;chr&gt; | Bid_Start &lt;int&gt; | Bid_Stop &lt;int&gt; | Samples &lt;chr&gt; | Num_Samples &lt;int&gt; | source_summary &lt;chr&gt; | source &lt;chr&gt; | score &lt;int&gt; | Bid_Length &lt;int&gt; | BidID &lt;chr&gt; |\n",
       "|---|---|---|---|---|---|---|---|---|---|\n",
       "| chr1 | 3917 | 4919 | Blumberg2021characterizing,Godfrey2017mll,Ikegami2020phosphorylated,Judd2020unpublished,Li2020human,Liu2021transcription,Nilson2017oxidative,Parida2019nucleotide,Santoriello2020rna,Sathyan2019improved,Sendinc2019pcif1,Smith2021peppro,Sumida2018ultra,Wan2020h2bg53d | 14 | dREG Only | dREG | 0 | 1003 | chr1-3917-4919-dREG |\n",
       "| chr1 | 5632 | 6042 | Blumberg2021characterizing,Godfrey2017mll,Ikegami2020phosphorylated,Judd2020unpublished,Li2020human,Liu2021transcription,Nilson2017oxidative,Parida2019nucleotide,Santoriello2020rna,Sathyan2019improved,Sendinc2019pcif1,Smith2021peppro,Sumida2018ultra,Wan2020h2bg53d | 14 | dREG Only | dREG | 0 |  411 | chr1-5632-6042-dREG |\n",
       "\n"
      ],
      "text/plain": [
       "  chr2 Bid_Start Bid_Stop\n",
       "1 chr1 3917      4919    \n",
       "2 chr1 5632      6042    \n",
       "  Samples                                                                                                                                                                                                                                                                 \n",
       "1 Blumberg2021characterizing,Godfrey2017mll,Ikegami2020phosphorylated,Judd2020unpublished,Li2020human,Liu2021transcription,Nilson2017oxidative,Parida2019nucleotide,Santoriello2020rna,Sathyan2019improved,Sendinc2019pcif1,Smith2021peppro,Sumida2018ultra,Wan2020h2bg53d\n",
       "2 Blumberg2021characterizing,Godfrey2017mll,Ikegami2020phosphorylated,Judd2020unpublished,Li2020human,Liu2021transcription,Nilson2017oxidative,Parida2019nucleotide,Santoriello2020rna,Sathyan2019improved,Sendinc2019pcif1,Smith2021peppro,Sumida2018ultra,Wan2020h2bg53d\n",
       "  Num_Samples source_summary source score Bid_Length BidID              \n",
       "1 14          dREG Only      dREG   0     1003       chr1-3917-4919-dREG\n",
       "2 14          dREG Only      dREG   0      411       chr1-5632-6042-dREG"
      ]
     },
     "metadata": {},
     "output_type": "display_data"
    }
   ],
   "source": [
    "# create a new unique id after merging\n",
    "filt_filt_bids[1:2,]"
   ]
  },
  {
   "cell_type": "code",
   "execution_count": 57,
   "id": "d91f7957-053e-4222-acc9-3fa0ab832584",
   "metadata": {
    "tags": []
   },
   "outputs": [],
   "source": [
    "# save file\n",
    "write.table(filt_filt_bids[,c(\"chr2\", \"Bid_Start\", \"Bid_Stop\", \"Samples\",\"Num_Samples\",\"source_summary\", \n",
    "                             \"source\", \"score\", \"Bid_Length\")], \n",
    "            \"hg38_master_qc_gc_len_posneg_gene_filt.bed\", \n",
    "            quote=FALSE, sep=\"\\t\", row.names=FALSE, col.names=FALSE)\n",
    "write.table(filt_filt_bids[,c(\"chr2\", \"Bid_Start\", \"Bid_Stop\", \"source\", \"BidID\")], \n",
    "            \"hg38_master_qc_gc_len_posneg_gene_filt_uniqueid.bed\", \n",
    "            quote=FALSE, sep=\"\\t\", row.names=FALSE, col.names=FALSE)"
   ]
  },
  {
   "cell_type": "code",
   "execution_count": 58,
   "id": "67d0976e-a88b-4d12-9442-46e86ff1b9a2",
   "metadata": {},
   "outputs": [
    {
     "name": "stdout",
     "output_type": "stream",
     "text": [
      "R version 4.3.0 (2023-04-21)\n",
      "Platform: x86_64-apple-darwin13.4.0 (64-bit)\n",
      "Running under: macOS Big Sur ... 10.16\n",
      "\n",
      "Matrix products: default\n",
      "BLAS/LAPACK: /Users/hopekirby/miniconda3/envs/r-kernel/lib/libopenblasp-r0.3.23.dylib;  LAPACK version 3.11.0\n",
      "\n",
      "locale:\n",
      "[1] en_US.UTF-8/en_US.UTF-8/en_US.UTF-8/C/en_US.UTF-8/en_US.UTF-8\n",
      "\n",
      "time zone: America/Denver\n",
      "tzcode source: system (macOS)\n",
      "\n",
      "attached base packages:\n",
      "[1] stats     graphics  grDevices utils     datasets  methods   base     \n",
      "\n",
      "other attached packages:\n",
      "[1] cowplot_1.1.1     ggplot2_3.4.2     data.table_1.14.8\n",
      "\n",
      "loaded via a namespace (and not attached):\n",
      " [1] crayon_1.5.2     vctrs_0.6.3      cli_3.6.1        rlang_1.1.1     \n",
      " [5] generics_0.1.3   jsonlite_1.8.7   labeling_0.4.2   glue_1.6.2      \n",
      " [9] colorspace_2.1-0 htmltools_0.5.5  IRdisplay_1.1    IRkernel_1.3.2  \n",
      "[13] scales_1.2.1     fansi_1.0.4      grid_4.3.0       evaluate_0.21   \n",
      "[17] munsell_0.5.0    tibble_3.2.1     fastmap_1.1.1    base64enc_0.1-3 \n",
      "[21] lifecycle_1.0.3  compiler_4.3.0   dplyr_1.1.2      pkgconfig_2.0.3 \n",
      "[25] farver_2.1.1     pbdZMQ_0.3-9     digest_0.6.33    R6_2.5.1        \n",
      "[29] tidyselect_1.2.0 repr_1.1.6       utf8_1.2.3       pillar_1.9.0    \n",
      "[33] magrittr_2.0.3   withr_2.5.0      uuid_1.1-0       tools_4.3.0     \n",
      "[37] gtable_0.3.3    \n"
     ]
    }
   ],
   "source": [
    "print(sessionInfo())"
   ]
  },
  {
   "cell_type": "code",
   "execution_count": null,
   "id": "a6e34005-2d0b-4f2d-aaa7-fea0281d43f0",
   "metadata": {},
   "outputs": [],
   "source": []
  }
 ],
 "metadata": {
  "kernelspec": {
   "display_name": "R",
   "language": "R",
   "name": "ir"
  },
  "language_info": {
   "codemirror_mode": "r",
   "file_extension": ".r",
   "mimetype": "text/x-r-source",
   "name": "R",
   "pygments_lexer": "r",
   "version": "4.3.0"
  }
 },
 "nbformat": 4,
 "nbformat_minor": 5
}
